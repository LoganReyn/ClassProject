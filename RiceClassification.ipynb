{
  "cells": [
    {
      "cell_type": "markdown",
      "metadata": {
        "id": "view-in-github",
        "colab_type": "text"
      },
      "source": [
        "<a href=\"https://colab.research.google.com/github/LoganReyn/ClassProject/blob/main/RiceClassification.ipynb\" target=\"_parent\"><img src=\"https://colab.research.google.com/assets/colab-badge.svg\" alt=\"Open In Colab\"/></a>"
      ]
    },
    {
      "cell_type": "markdown",
      "metadata": {
        "id": "u1XQEHu1iVnB"
      },
      "source": [
        "# Rice Image Classification\n",
        "\n",
        "ARTI 450: Deep Learning\n",
        "\n",
        "Cody & Logan\n",
        "\n",
        "Professor Gogolin\n",
        "\n",
        "Fall 2024"
      ]
    },
    {
      "cell_type": "markdown",
      "metadata": {
        "id": "VSpuoQIMWhIu"
      },
      "source": [
        "## Introduction\n",
        "\n",
        "\n",
        "The goal of this project is to develop a Convolutional Neural Network (CNN) model for classifying rice grains into one of five distinct categories: Ipsala, Jasmine, Arborio, Karacadag, and Basmati. A secondary goal of the project is to learn the architecture and best practices of CNN's in image classification.\n",
        "\n",
        "### Citations\n",
        "\n",
        "Koklu, M., Cinar, I., & Taspinar, Y. S. (2021). Classification of rice varieties with deep learning methods. Computers and Electronics in Agriculture, 187, 106285. https://doi.org/10.1016/j.compag.2021.106285\n",
        "\n",
        "Cinar, I., & Koklu, M. (2021). Determination of Effective and Specific Physical Features of Rice Varieties by Computer Vision In Exterior Quality Inspection. Selcuk Journal of Agriculture and Food Sciences, 35(3), 229-243. https://doi.org/10.15316/SJAFS.2021.252\n",
        "\n",
        "Cinar, I., & Koklu, M. (2022). Identification of Rice Varieties Using Machine Learning Algorithms. Journal of Agricultural Sciences https://doi.org/10.15832/ankutbd.862482\n",
        "\n",
        "Cinar, I., & Koklu, M. (2019). Classification of Rice Varieties Using Artificial Intelligence Methods. International Journal of Intelligent Systems and Applications in Engineering, 7(3), 188-194. https://doi.org/10.18201/ijisae.2019355381\n",
        "\n",
        "[DATASET LINK](https://www.muratkoklu.com/s/)"
      ]
    },
    {
      "cell_type": "markdown",
      "metadata": {
        "id": "IoH2l9kfg-6W"
      },
      "source": [
        "## Formating Data"
      ]
    },
    {
      "cell_type": "markdown",
      "metadata": {
        "id": "1rwU4hIdW9O4"
      },
      "source": [
        "The zipped folder downloaded contains five subfolders, each corresponding to a specific type of rice: Ipsala, Jasmine, Arborio, Karacadag, and Basmati. Each subfolder contains numerous images of the respective rice type. To prepare these images for classification, the first step is to extract and organize them into a single, unified dataset. This involves labeling the images according to their rice type based on the subfolder they originated from. Once labeled, the images will be combined into one dataset and then partitioned into training, and test sets."
      ]
    },
    {
      "cell_type": "code",
      "execution_count": null,
      "metadata": {
        "colab": {
          "base_uri": "https://localhost:8080/"
        },
        "id": "m3stNdzK4nqJ",
        "outputId": "5c9c5699-9de4-49d6-89c0-2c31708bc3de"
      },
      "outputs": [
        {
          "output_type": "stream",
          "name": "stdout",
          "text": [
            "Mounted at /content/drive\n"
          ]
        }
      ],
      "source": [
        "# allow access to drive\n",
        "\n",
        "from google.colab import drive\n",
        "drive.mount('/content/drive')"
      ]
    },
    {
      "cell_type": "code",
      "execution_count": null,
      "metadata": {
        "id": "7siziDi5a2Mh"
      },
      "outputs": [],
      "source": [
        "import zipfile\n",
        "import os\n",
        "import cv2\n",
        "\n",
        "import numpy as np\n",
        "import pandas as pd\n",
        "import matplotlib.pyplot as plt\n",
        "import matplotlib.image as mpimg\n",
        "import os\n",
        "import random\n",
        "from sklearn.model_selection import train_test_split"
      ]
    },
    {
      "cell_type": "code",
      "execution_count": null,
      "metadata": {
        "id": "0N4UQ3zXc9CH"
      },
      "outputs": [],
      "source": [
        "# extract the zip file to cwd '/content'\n",
        "\n",
        "ZIPPED = \"/content/drive/My Drive/Colab Notebooks/Project Rice/RiceArchive.zip\"\n",
        "\n",
        "zipfile.ZipFile(ZIPPED).extractall(path='/content')"
      ]
    },
    {
      "cell_type": "markdown",
      "metadata": {
        "id": "MvLzvy-ZX3qH"
      },
      "source": [
        "Should extract a folder \"Rice_Image_Dataset\" to cwd."
      ]
    },
    {
      "cell_type": "code",
      "execution_count": null,
      "metadata": {
        "colab": {
          "base_uri": "https://localhost:8080/"
        },
        "id": "i2RwHanPetCL",
        "outputId": "b89848bd-00fe-44f1-9599-56fac9073dad"
      },
      "outputs": [
        {
          "output_type": "execute_result",
          "data": {
            "text/plain": [
              "['.config', 'drive', 'Rice_Image_Dataset', 'sample_data']"
            ]
          },
          "metadata": {},
          "execution_count": 4
        }
      ],
      "source": [
        "os.listdir()"
      ]
    },
    {
      "cell_type": "code",
      "execution_count": null,
      "metadata": {
        "colab": {
          "base_uri": "https://localhost:8080/"
        },
        "id": "XAyT-xq9eM6X",
        "outputId": "28b10cd6-79bf-4d43-b68d-0ddc53aa605a"
      },
      "outputs": [
        {
          "output_type": "execute_result",
          "data": {
            "text/plain": [
              "['Karacadag', 'Jasmine', 'Ipsala', 'Arborio', 'Basmati']"
            ]
          },
          "metadata": {},
          "execution_count": 5
        }
      ],
      "source": [
        "UNZIPED = '/content/Rice_Image_Dataset'\n",
        "os.listdir(UNZIPED)"
      ]
    },
    {
      "cell_type": "markdown",
      "metadata": {
        "id": "THre37yFfkgB"
      },
      "source": [
        "5 Folders each containing images of their respected rice type."
      ]
    },
    {
      "cell_type": "code",
      "execution_count": null,
      "metadata": {
        "colab": {
          "base_uri": "https://localhost:8080/",
          "height": 259
        },
        "id": "gcvHQV1Bf473",
        "outputId": "a344de92-58d3-43cd-eef8-e029d6d0fdf5"
      },
      "outputs": [
        {
          "output_type": "display_data",
          "data": {
            "text/plain": [
              "<Figure size 1500x300 with 5 Axes>"
            ],
            "image/png": "[encoded data removed]"
          },
          "metadata": {}
        }
      ],
      "source": [
        "folders = os.listdir(UNZIPED)\n",
        "\n",
        "# Create a figure to display the images\n",
        "fig, axes = plt.subplots(1, 5, figsize=(15, 3))\n",
        "\n",
        "# Display an example image from each folder\n",
        "for i, folder in enumerate(folders):\n",
        "    # Get a list of image files in the folder\n",
        "    image_files = os.listdir(os.path.join(UNZIPED, folder))\n",
        "    # Select a random image file\n",
        "    image_file = random.choice(image_files)\n",
        "    # Load the image\n",
        "    img = mpimg.imread(os.path.join(UNZIPED, folder, image_file))\n",
        "    # Display the image\n",
        "    axes[i].imshow(img)\n",
        "    axes[i].set_title(folder)\n",
        "    axes[i].axis('off')\n",
        "\n",
        "plt.show()"
      ]
    },
    {
      "cell_type": "markdown",
      "metadata": {
        "id": "kbx64qyDgfVh"
      },
      "source": [
        "There are 5 types of rice in this image folder.\n",
        "* Ipsala\n",
        "* Jasmine\n",
        "* Arborio\n",
        "* Karacadag\n",
        "* Basmati.\n",
        "\n",
        "If you look closely, each rice type has a different color tint. Since we don't have good compute resources, we will turn the images black and white. If this wasn't the case, RGB would allow for much higher accuracy."
      ]
    },
    {
      "cell_type": "code",
      "execution_count": null,
      "metadata": {
        "colab": {
          "base_uri": "https://localhost:8080/"
        },
        "id": "7RjWFDbZmWPh",
        "outputId": "957f6bf7-9989-4386-dad0-1f38395045f5"
      },
      "outputs": [
        {
          "output_type": "stream",
          "name": "stdout",
          "text": [
            "Karacadag: 15000\n",
            "Jasmine: 15000\n",
            "Ipsala: 15000\n",
            "Arborio: 15000\n",
            "Basmati: 15000\n"
          ]
        }
      ],
      "source": [
        "# Images in each class\n",
        "\n",
        "for folder in folders:\n",
        "  print(f\"{folder}: {len(os.listdir(os.path.join(UNZIPED, folder)))}\")"
      ]
    },
    {
      "cell_type": "markdown",
      "metadata": {
        "id": "YgvH1boCmEFF"
      },
      "source": [
        "There is 15,000 images of each class."
      ]
    },
    {
      "cell_type": "markdown",
      "metadata": {
        "id": "UVEv9Pq1y8SP"
      },
      "source": [
        "## Loading DataFrame\n",
        "\n",
        "*There was much struggle with figuring out a solution to conserve the system RAM so Colab wouldn't crash when reading images from folder.*\n",
        "\n",
        "**Failed Solutions**\n",
        "\n",
        "\n",
        "\n",
        "*   Store data in dictionaries\n",
        "*   Store data in lists\n",
        "*   Batch Process Folders and Store each to Disk using the to csv method from pandas (data format got messed up everytime)\n",
        "\n",
        "**Working Solution**\n",
        "\n",
        "* Create dataframe of each folder using a generator. Create list of dataframes and then combine dataframes.\n",
        "\n",
        "\n",
        "**Notes**\n",
        "\n",
        "*  Attempting to standardize the pixel values uses lots of RAM\n",
        "* Perhaps the problem was in the standardization calculations all along\n",
        "\n",
        "\n"
      ]
    },
    {
      "cell_type": "code",
      "execution_count": null,
      "metadata": {
        "id": "WKfc5lzkqsLu"
      },
      "outputs": [],
      "source": [
        "def dataFrameOfFolder(folders) -> pd.DataFrame:\n",
        "  \"\"\" Generator of dataframe for each folder. \"\"\"\n",
        "  for folder in folders:\n",
        "    imData = []\n",
        "    labelData = []\n",
        "    print(f\"Doing {folder}\")\n",
        "    imageFolder = os.listdir(os.path.join(UNZIPED, folder))\n",
        "\n",
        "    for image in imageFolder:\n",
        "      # read as black and white\n",
        "      img = cv2.imread((os.path.join(UNZIPED, folder, image)), cv2.IMREAD_GRAYSCALE)\n",
        "      scaledImg = cv2.resize(img, (50, 50), interpolation=cv2.INTER_AREA)\n",
        "      imData.append(scaledImg)\n",
        "      labelData.append(folder)\n",
        "    df = pd.DataFrame({\"Image\": imData, \"Label\": labelData})\n",
        "    yield (df)"
      ]
    },
    {
      "cell_type": "code",
      "execution_count": null,
      "metadata": {
        "colab": {
          "base_uri": "https://localhost:8080/"
        },
        "id": "sW5CdB4YvsvY",
        "outputId": "a4d30d5a-546e-4b0e-a810-f9164860990c"
      },
      "outputs": [
        {
          "output_type": "stream",
          "name": "stdout",
          "text": [
            "Doing Karacadag\n",
            "Doing Jasmine\n",
            "Doing Ipsala\n",
            "Doing Arborio\n",
            "Doing Basmati\n"
          ]
        }
      ],
      "source": [
        "# storing all dataframes of each rice type in list\n",
        "\n",
        "riceFrames = []\n",
        "\n",
        "for content in dataFrameOfFolder(folders):\n",
        "  riceFrames.append(content)"
      ]
    },
    {
      "cell_type": "code",
      "execution_count": null,
      "metadata": {
        "id": "_ySaUNo5w0KL"
      },
      "outputs": [],
      "source": [
        "# concat of all dataframes extracted\n",
        "\n",
        "masterDf = pd.DataFrame()\n",
        "\n",
        "for df in riceFrames:\n",
        "    masterDf = pd.concat([masterDf, df], ignore_index=True)"
      ]
    },
    {
      "cell_type": "code",
      "execution_count": null,
      "metadata": {
        "colab": {
          "base_uri": "https://localhost:8080/"
        },
        "id": "MuNIufB9xnc2",
        "outputId": "565cc383-7aaf-44a8-dd20-58fc358039e7"
      },
      "outputs": [
        {
          "output_type": "stream",
          "name": "stdout",
          "text": [
            "2\n"
          ]
        }
      ],
      "source": [
        "\"\"\" Dictionary for encoding labels \"\"\"\n",
        "\n",
        "labelDict = {\n",
        "    'Ipsala': 0,\n",
        "    'Jasmine': 1,\n",
        "    'Arborio': 2,\n",
        "    'Karacadag': 3,\n",
        "    'Basmati': 4\n",
        "}\n",
        "\n",
        "encodeLabel = lambda label: labelDict[label] # -> int\n",
        "\n",
        "# test\n",
        "print(encodeLabel('Arborio'))"
      ]
    },
    {
      "cell_type": "code",
      "execution_count": null,
      "metadata": {
        "id": "K0vHsbZqdo3Z"
      },
      "outputs": [],
      "source": [
        "import gc"
      ]
    },
    {
      "cell_type": "code",
      "execution_count": null,
      "metadata": {
        "id": "AORQG3kvUjRu"
      },
      "outputs": [],
      "source": [
        "# clear up space\n",
        "del (df)\n",
        "del (content)\n",
        "del (riceFrames)\n",
        "del (image_files)"
      ]
    },
    {
      "cell_type": "code",
      "execution_count": null,
      "metadata": {
        "id": "389fBrKmw8rJ"
      },
      "outputs": [],
      "source": [
        "# Label Encoding\n",
        "masterDf['Label'] = masterDf['Label'].apply(lambda row: encodeLabel(row))"
      ]
    },
    {
      "cell_type": "code",
      "execution_count": null,
      "metadata": {
        "colab": {
          "base_uri": "https://localhost:8080/",
          "height": 363
        },
        "id": "NFHNNV64Uba6",
        "outputId": "10088c60-fdb2-479c-ac34-b13784bbd9d4"
      },
      "outputs": [
        {
          "output_type": "execute_result",
          "data": {
            "text/plain": [
              "                                                   Image  Label\n",
              "6409   [[0, 0, 0, 0, 0, 0, 0, 0, 0, 0, 0, 0, 0, 0, 0,...      3\n",
              "42411  [[0, 0, 0, 0, 0, 0, 0, 0, 0, 0, 0, 0, 0, 0, 0,...      0\n",
              "19066  [[0, 0, 0, 0, 0, 0, 0, 0, 0, 0, 0, 0, 0, 0, 0,...      1\n",
              "34778  [[0, 0, 0, 0, 0, 0, 0, 0, 0, 0, 0, 0, 0, 0, 0,...      0\n",
              "54015  [[0, 0, 0, 0, 0, 0, 0, 0, 0, 0, 0, 0, 0, 0, 0,...      2\n",
              "20552  [[0, 0, 0, 0, 0, 0, 0, 0, 0, 0, 0, 0, 0, 0, 0,...      1\n",
              "51764  [[0, 0, 0, 0, 0, 0, 0, 0, 0, 0, 0, 0, 0, 0, 0,...      2\n",
              "30828  [[0, 0, 0, 0, 0, 0, 0, 0, 0, 0, 0, 0, 0, 0, 0,...      0\n",
              "60162  [[0, 0, 0, 0, 0, 0, 0, 0, 0, 0, 0, 0, 0, 0, 0,...      4\n",
              "21995  [[0, 0, 0, 0, 0, 0, 0, 0, 0, 0, 0, 0, 0, 0, 0,...      1"
            ],
            "text/html": [
              "\n",
              "  <div id=\"df-f5b07e74-24e4-474b-a33e-0402bc3880e2\" class=\"colab-df-container\">\n",
              "    <div>\n",
              "<style scoped>\n",
              "    .dataframe tbody tr th:only-of-type {\n",
              "        vertical-align: middle;\n",
              "    }\n",
              "\n",
              "    .dataframe tbody tr th {\n",
              "        vertical-align: top;\n",
              "    }\n",
              "\n",
              "    .dataframe thead th {\n",
              "        text-align: right;\n",
              "    }\n",
              "</style>\n",
              "<table border=\"1\" class=\"dataframe\">\n",
              "  <thead>\n",
              "    <tr style=\"text-align: right;\">\n",
              "      <th></th>\n",
              "      <th>Image</th>\n",
              "      <th>Label</th>\n",
              "    </tr>\n",
              "  </thead>\n",
              "  <tbody>\n",
              "    <tr>\n",
              "      <th>6409</th>\n",
              "      <td>[[0, 0, 0, 0, 0, 0, 0, 0, 0, 0, 0, 0, 0, 0, 0,...</td>\n",
              "      <td>3</td>\n",
              "    </tr>\n",
              "    <tr>\n",
              "      <th>42411</th>\n",
              "      <td>[[0, 0, 0, 0, 0, 0, 0, 0, 0, 0, 0, 0, 0, 0, 0,...</td>\n",
              "      <td>0</td>\n",
              "    </tr>\n",
              "    <tr>\n",
              "      <th>19066</th>\n",
              "      <td>[[0, 0, 0, 0, 0, 0, 0, 0, 0, 0, 0, 0, 0, 0, 0,...</td>\n",
              "      <td>1</td>\n",
              "    </tr>\n",
              "    <tr>\n",
              "      <th>34778</th>\n",
              "      <td>[[0, 0, 0, 0, 0, 0, 0, 0, 0, 0, 0, 0, 0, 0, 0,...</td>\n",
              "      <td>0</td>\n",
              "    </tr>\n",
              "    <tr>\n",
              "      <th>54015</th>\n",
              "      <td>[[0, 0, 0, 0, 0, 0, 0, 0, 0, 0, 0, 0, 0, 0, 0,...</td>\n",
              "      <td>2</td>\n",
              "    </tr>\n",
              "    <tr>\n",
              "      <th>20552</th>\n",
              "      <td>[[0, 0, 0, 0, 0, 0, 0, 0, 0, 0, 0, 0, 0, 0, 0,...</td>\n",
              "      <td>1</td>\n",
              "    </tr>\n",
              "    <tr>\n",
              "      <th>51764</th>\n",
              "      <td>[[0, 0, 0, 0, 0, 0, 0, 0, 0, 0, 0, 0, 0, 0, 0,...</td>\n",
              "      <td>2</td>\n",
              "    </tr>\n",
              "    <tr>\n",
              "      <th>30828</th>\n",
              "      <td>[[0, 0, 0, 0, 0, 0, 0, 0, 0, 0, 0, 0, 0, 0, 0,...</td>\n",
              "      <td>0</td>\n",
              "    </tr>\n",
              "    <tr>\n",
              "      <th>60162</th>\n",
              "      <td>[[0, 0, 0, 0, 0, 0, 0, 0, 0, 0, 0, 0, 0, 0, 0,...</td>\n",
              "      <td>4</td>\n",
              "    </tr>\n",
              "    <tr>\n",
              "      <th>21995</th>\n",
              "      <td>[[0, 0, 0, 0, 0, 0, 0, 0, 0, 0, 0, 0, 0, 0, 0,...</td>\n",
              "      <td>1</td>\n",
              "    </tr>\n",
              "  </tbody>\n",
              "</table>\n",
              "</div>\n",
              "    <div class=\"colab-df-buttons\">\n",
              "\n",
              "  <div class=\"colab-df-container\">\n",
              "    <button class=\"colab-df-convert\" onclick=\"convertToInteractive('df-f5b07e74-24e4-474b-a33e-0402bc3880e2')\"\n",
              "            title=\"Convert this dataframe to an interactive table.\"\n",
              "            style=\"display:none;\">\n",
              "\n",
              "  <svg xmlns=\"http://www.w3.org/2000/svg\" height=\"24px\" viewBox=\"0 -960 960 960\">\n",
              "    <path d=\"M120-120v-720h720v720H120Zm60-500h600v-160H180v160Zm220 220h160v-160H400v160Zm0 220h160v-160H400v160ZM180-400h160v-160H180v160Zm440 0h160v-160H620v160ZM180-180h160v-160H180v160Zm440 0h160v-160H620v160Z\"/>\n",
              "  </svg>\n",
              "    </button>\n",
              "\n",
              "  <style>\n",
              "    .colab-df-container {\n",
              "      display:flex;\n",
              "      gap: 12px;\n",
              "    }\n",
              "\n",
              "    .colab-df-convert {\n",
              "      background-color: #E8F0FE;\n",
              "      border: none;\n",
              "      border-radius: 50%;\n",
              "      cursor: pointer;\n",
              "      display: none;\n",
              "      fill: #1967D2;\n",
              "      height: 32px;\n",
              "      padding: 0 0 0 0;\n",
              "      width: 32px;\n",
              "    }\n",
              "\n",
              "    .colab-df-convert:hover {\n",
              "      background-color: #E2EBFA;\n",
              "      box-shadow: 0px 1px 2px rgba(60, 64, 67, 0.3), 0px 1px 3px 1px rgba(60, 64, 67, 0.15);\n",
              "      fill: #174EA6;\n",
              "    }\n",
              "\n",
              "    .colab-df-buttons div {\n",
              "      margin-bottom: 4px;\n",
              "    }\n",
              "\n",
              "    [theme=dark] .colab-df-convert {\n",
              "      background-color: #3B4455;\n",
              "      fill: #D2E3FC;\n",
              "    }\n",
              "\n",
              "    [theme=dark] .colab-df-convert:hover {\n",
              "      background-color: #434B5C;\n",
              "      box-shadow: 0px 1px 3px 1px rgba(0, 0, 0, 0.15);\n",
              "      filter: drop-shadow(0px 1px 2px rgba(0, 0, 0, 0.3));\n",
              "      fill: #FFFFFF;\n",
              "    }\n",
              "  </style>\n",
              "\n",
              "    <script>\n",
              "      const buttonEl =\n",
              "        document.querySelector('#df-f5b07e74-24e4-474b-a33e-0402bc3880e2 button.colab-df-convert');\n",
              "      buttonEl.style.display =\n",
              "        google.colab.kernel.accessAllowed ? 'block' : 'none';\n",
              "\n",
              "      async function convertToInteractive(key) {\n",
              "        const element = document.querySelector('#df-f5b07e74-24e4-474b-a33e-0402bc3880e2');\n",
              "        const dataTable =\n",
              "          await google.colab.kernel.invokeFunction('convertToInteractive',\n",
              "                                                    [key], {});\n",
              "        if (!dataTable) return;\n",
              "\n",
              "        const docLinkHtml = 'Like what you see? Visit the ' +\n",
              "          '<a target=\"_blank\" href=https://colab.research.google.com/notebooks/data_table.ipynb>data table notebook</a>'\n",
              "          + ' to learn more about interactive tables.';\n",
              "        element.innerHTML = '';\n",
              "        dataTable['output_type'] = 'display_data';\n",
              "        await google.colab.output.renderOutput(dataTable, element);\n",
              "        const docLink = document.createElement('div');\n",
              "        docLink.innerHTML = docLinkHtml;\n",
              "        element.appendChild(docLink);\n",
              "      }\n",
              "    </script>\n",
              "  </div>\n",
              "\n",
              "\n",
              "<div id=\"df-45896b59-4cce-46d5-a3bc-cd6725d216be\">\n",
              "  <button class=\"colab-df-quickchart\" onclick=\"quickchart('df-45896b59-4cce-46d5-a3bc-cd6725d216be')\"\n",
              "            title=\"Suggest charts\"\n",
              "            style=\"display:none;\">\n",
              "\n",
              "<svg xmlns=\"http://www.w3.org/2000/svg\" height=\"24px\"viewBox=\"0 0 24 24\"\n",
              "     width=\"24px\">\n",
              "    <g>\n",
              "        <path d=\"M19 3H5c-1.1 0-2 .9-2 2v14c0 1.1.9 2 2 2h14c1.1 0 2-.9 2-2V5c0-1.1-.9-2-2-2zM9 17H7v-7h2v7zm4 0h-2V7h2v10zm4 0h-2v-4h2v4z\"/>\n",
              "    </g>\n",
              "</svg>\n",
              "  </button>\n",
              "\n",
              "<style>\n",
              "  .colab-df-quickchart {\n",
              "      --bg-color: #E8F0FE;\n",
              "      --fill-color: #1967D2;\n",
              "      --hover-bg-color: #E2EBFA;\n",
              "      --hover-fill-color: #174EA6;\n",
              "      --disabled-fill-color: #AAA;\n",
              "      --disabled-bg-color: #DDD;\n",
              "  }\n",
              "\n",
              "  [theme=dark] .colab-df-quickchart {\n",
              "      --bg-color: #3B4455;\n",
              "      --fill-color: #D2E3FC;\n",
              "      --hover-bg-color: #434B5C;\n",
              "      --hover-fill-color: #FFFFFF;\n",
              "      --disabled-bg-color: #3B4455;\n",
              "      --disabled-fill-color: #666;\n",
              "  }\n",
              "\n",
              "  .colab-df-quickchart {\n",
              "    background-color: var(--bg-color);\n",
              "    border: none;\n",
              "    border-radius: 50%;\n",
              "    cursor: pointer;\n",
              "    display: none;\n",
              "    fill: var(--fill-color);\n",
              "    height: 32px;\n",
              "    padding: 0;\n",
              "    width: 32px;\n",
              "  }\n",
              "\n",
              "  .colab-df-quickchart:hover {\n",
              "    background-color: var(--hover-bg-color);\n",
              "    box-shadow: 0 1px 2px rgba(60, 64, 67, 0.3), 0 1px 3px 1px rgba(60, 64, 67, 0.15);\n",
              "    fill: var(--button-hover-fill-color);\n",
              "  }\n",
              "\n",
              "  .colab-df-quickchart-complete:disabled,\n",
              "  .colab-df-quickchart-complete:disabled:hover {\n",
              "    background-color: var(--disabled-bg-color);\n",
              "    fill: var(--disabled-fill-color);\n",
              "    box-shadow: none;\n",
              "  }\n",
              "\n",
              "  .colab-df-spinner {\n",
              "    border: 2px solid var(--fill-color);\n",
              "    border-color: transparent;\n",
              "    border-bottom-color: var(--fill-color);\n",
              "    animation:\n",
              "      spin 1s steps(1) infinite;\n",
              "  }\n",
              "\n",
              "  @keyframes spin {\n",
              "    0% {\n",
              "      border-color: transparent;\n",
              "      border-bottom-color: var(--fill-color);\n",
              "      border-left-color: var(--fill-color);\n",
              "    }\n",
              "    20% {\n",
              "      border-color: transparent;\n",
              "      border-left-color: var(--fill-color);\n",
              "      border-top-color: var(--fill-color);\n",
              "    }\n",
              "    30% {\n",
              "      border-color: transparent;\n",
              "      border-left-color: var(--fill-color);\n",
              "      border-top-color: var(--fill-color);\n",
              "      border-right-color: var(--fill-color);\n",
              "    }\n",
              "    40% {\n",
              "      border-color: transparent;\n",
              "      border-right-color: var(--fill-color);\n",
              "      border-top-color: var(--fill-color);\n",
              "    }\n",
              "    60% {\n",
              "      border-color: transparent;\n",
              "      border-right-color: var(--fill-color);\n",
              "    }\n",
              "    80% {\n",
              "      border-color: transparent;\n",
              "      border-right-color: var(--fill-color);\n",
              "      border-bottom-color: var(--fill-color);\n",
              "    }\n",
              "    90% {\n",
              "      border-color: transparent;\n",
              "      border-bottom-color: var(--fill-color);\n",
              "    }\n",
              "  }\n",
              "</style>\n",
              "\n",
              "  <script>\n",
              "    async function quickchart(key) {\n",
              "      const quickchartButtonEl =\n",
              "        document.querySelector('#' + key + ' button');\n",
              "      quickchartButtonEl.disabled = true;  // To prevent multiple clicks.\n",
              "      quickchartButtonEl.classList.add('colab-df-spinner');\n",
              "      try {\n",
              "        const charts = await google.colab.kernel.invokeFunction(\n",
              "            'suggestCharts', [key], {});\n",
              "      } catch (error) {\n",
              "        console.error('Error during call to suggestCharts:', error);\n",
              "      }\n",
              "      quickchartButtonEl.classList.remove('colab-df-spinner');\n",
              "      quickchartButtonEl.classList.add('colab-df-quickchart-complete');\n",
              "    }\n",
              "    (() => {\n",
              "      let quickchartButtonEl =\n",
              "        document.querySelector('#df-45896b59-4cce-46d5-a3bc-cd6725d216be button');\n",
              "      quickchartButtonEl.style.display =\n",
              "        google.colab.kernel.accessAllowed ? 'block' : 'none';\n",
              "    })();\n",
              "  </script>\n",
              "</div>\n",
              "\n",
              "    </div>\n",
              "  </div>\n"
            ],
            "application/vnd.google.colaboratory.intrinsic+json": {
              "type": "dataframe",
              "summary": "{\n  \"name\": \"masterDf\",\n  \"rows\": 10,\n  \"fields\": [\n    {\n      \"column\": \"Image\",\n      \"properties\": {\n        \"dtype\": \"object\",\n        \"semantic_type\": \"\",\n        \"description\": \"\"\n      }\n    },\n    {\n      \"column\": \"Label\",\n      \"properties\": {\n        \"dtype\": \"number\",\n        \"std\": 1,\n        \"min\": 0,\n        \"max\": 4,\n        \"num_unique_values\": 5,\n        \"samples\": [\n          0,\n          4,\n          1\n        ],\n        \"semantic_type\": \"\",\n        \"description\": \"\"\n      }\n    }\n  ]\n}"
            }
          },
          "metadata": {},
          "execution_count": 15
        }
      ],
      "source": [
        "# taking a peep\n",
        "\n",
        "masterDf.sample(10)"
      ]
    },
    {
      "cell_type": "code",
      "execution_count": null,
      "metadata": {
        "id": "GVqKv4uhvDxy"
      },
      "outputs": [],
      "source": [
        "masterDf[\"Image\"] = masterDf[\"Image\"].apply(lambda row: np.stack(row, axis=0))"
      ]
    },
    {
      "cell_type": "markdown",
      "metadata": {
        "id": "ydLbBWPyiV1n"
      },
      "source": [
        "## Model Prep"
      ]
    },
    {
      "cell_type": "markdown",
      "metadata": {
        "id": "3EuNehIXu2YW"
      },
      "source": [
        "\n",
        "\n",
        "*   Exporting the dataframe as is to csv doens't work as the image data gets cut off.\n",
        "*   Setting up the image data to the proper format has yet to work\n",
        "\n"
      ]
    },
    {
      "cell_type": "code",
      "execution_count": null,
      "metadata": {
        "id": "EnY8lEkplvG1"
      },
      "outputs": [],
      "source": [
        "X = masterDf['Image'].tolist()  # Convert image data column to a list\n",
        "y = masterDf['Label']\n",
        "\n",
        "# Perform the train-test split\n",
        "X_train, X_test, y_train, y_test = train_test_split(X, y, test_size=0.2, random_state=42)"
      ]
    },
    {
      "cell_type": "code",
      "execution_count": null,
      "metadata": {
        "colab": {
          "base_uri": "https://localhost:8080/",
          "height": 449
        },
        "id": "GKGLbGlDihrD",
        "outputId": "eb08ff42-cf2c-47a9-feec-49e63d705a6f"
      },
      "outputs": [
        {
          "output_type": "execute_result",
          "data": {
            "text/plain": [
              "<matplotlib.image.AxesImage at 0x78fed178d360>"
            ]
          },
          "metadata": {},
          "execution_count": 18
        },
        {
          "output_type": "display_data",
          "data": {
            "text/plain": [
              "<Figure size 640x480 with 1 Axes>"
            ],
            "image/png": "[encoded data removed]"
          },
          "metadata": {}
        }
      ],
      "source": [
        "plt.imshow(X_train[0], cmap='gray')"
      ]
    },
    {
      "cell_type": "markdown",
      "metadata": {
        "id": "jEPbeWqC91bU"
      },
      "source": [
        "Looks like jasmine"
      ]
    },
    {
      "cell_type": "code",
      "execution_count": null,
      "metadata": {
        "colab": {
          "base_uri": "https://localhost:8080/",
          "height": 272
        },
        "id": "SE-P_Ibsh7Ho",
        "outputId": "c0866bf3-412d-4998-8aef-d7283b265005"
      },
      "outputs": [
        {
          "output_type": "execute_result",
          "data": {
            "text/plain": [
              "Label\n",
              "4    12071\n",
              "1    12005\n",
              "2    12004\n",
              "3    12003\n",
              "0    11917\n",
              "Name: count, dtype: int64"
            ],
            "text/html": [
              "<div>\n",
              "<style scoped>\n",
              "    .dataframe tbody tr th:only-of-type {\n",
              "        vertical-align: middle;\n",
              "    }\n",
              "\n",
              "    .dataframe tbody tr th {\n",
              "        vertical-align: top;\n",
              "    }\n",
              "\n",
              "    .dataframe thead th {\n",
              "        text-align: right;\n",
              "    }\n",
              "</style>\n",
              "<table border=\"1\" class=\"dataframe\">\n",
              "  <thead>\n",
              "    <tr style=\"text-align: right;\">\n",
              "      <th></th>\n",
              "      <th>count</th>\n",
              "    </tr>\n",
              "    <tr>\n",
              "      <th>Label</th>\n",
              "      <th></th>\n",
              "    </tr>\n",
              "  </thead>\n",
              "  <tbody>\n",
              "    <tr>\n",
              "      <th>4</th>\n",
              "      <td>12071</td>\n",
              "    </tr>\n",
              "    <tr>\n",
              "      <th>1</th>\n",
              "      <td>12005</td>\n",
              "    </tr>\n",
              "    <tr>\n",
              "      <th>2</th>\n",
              "      <td>12004</td>\n",
              "    </tr>\n",
              "    <tr>\n",
              "      <th>3</th>\n",
              "      <td>12003</td>\n",
              "    </tr>\n",
              "    <tr>\n",
              "      <th>0</th>\n",
              "      <td>11917</td>\n",
              "    </tr>\n",
              "  </tbody>\n",
              "</table>\n",
              "</div><br><label><b>dtype:</b> int64</label>"
            ]
          },
          "metadata": {},
          "execution_count": 19
        }
      ],
      "source": [
        "# Training class split\n",
        "\n",
        "y_train.value_counts()"
      ]
    },
    {
      "cell_type": "code",
      "execution_count": null,
      "metadata": {
        "id": "oq1onD4uoLlu"
      },
      "outputs": [],
      "source": [
        "# reshaping\n",
        "\n",
        "X_train = np.stack(X_train, axis=0)\n",
        "X_test = np.stack(X_test, axis=0)"
      ]
    },
    {
      "cell_type": "code",
      "execution_count": null,
      "metadata": {
        "id": "XC2IjZSmpUDh"
      },
      "outputs": [],
      "source": [
        "# adding the extra channel is for the intensity of light since black and white\n",
        "\n",
        "X_train = X_train.reshape(X_train.shape[0], 50, 50, 1)\n",
        "X_test = X_test.reshape(X_test.shape[0], 50, 50, 1)"
      ]
    },
    {
      "cell_type": "code",
      "execution_count": null,
      "metadata": {
        "colab": {
          "base_uri": "https://localhost:8080/"
        },
        "id": "l7QOgYEj-sx3",
        "outputId": "0de7ee00-c466-4595-be5e-f49348d9fc4a"
      },
      "outputs": [
        {
          "output_type": "execute_result",
          "data": {
            "text/plain": [
              "(60000, 50, 50, 1)"
            ]
          },
          "metadata": {},
          "execution_count": 22
        }
      ],
      "source": [
        "# making sure everything is a-ok\n",
        "X_train.shape"
      ]
    },
    {
      "cell_type": "code",
      "execution_count": null,
      "metadata": {
        "id": "9BCQPADdAOS2"
      },
      "outputs": [],
      "source": [
        "# Pixel Values Before: [0 - 255]\n",
        "\n",
        "X_train = X_train.astype('float32') / 255.0\n",
        "X_test = X_test.astype('float32') / 255.0\n",
        "\n",
        "# Pixel Values After: [0 - 1]"
      ]
    },
    {
      "cell_type": "markdown",
      "metadata": {
        "id": "ZPVdp-Sn_sgd"
      },
      "source": [
        "## Model Build"
      ]
    },
    {
      "cell_type": "markdown",
      "metadata": {
        "id": "mjYoPFPJDwMO"
      },
      "source": [
        "*Somethings to note*\n",
        "\n",
        "* **Keras** is a high-level API built on top of **TensorFlow** (and other backends). It simplifies the process of building and training neural networks by providing intuitive and user-friendly abstractions.\n",
        "\n",
        "\n",
        "\n",
        "* For Input (batch_size, height, width, channels)\n",
        "* When you specify input_shape=(50, 50, 1) in Keras (without the batch size), the model automatically handles the batching during training.\n",
        "\n"
      ]
    },
    {
      "cell_type": "markdown",
      "metadata": {
        "id": "RKOAOuR-Q6JD"
      },
      "source": [
        "**tensorflow.keras.layers**\n",
        "\n",
        "*necessary parameter notes*\n",
        "\n",
        "Conv2D (filters, (kernal_height, kernal_width), activation, input_shape) \\\n",
        "MaxPooling2D((pool_height, pool_width)) \\\n",
        "Flatten(): Converts 3D to 1D\\\n",
        "Dense(neurons, activation) \\\n",
        "\n",
        "\n",
        "\n"
      ]
    },
    {
      "cell_type": "markdown",
      "metadata": {
        "id": "fxN39rYUV_Ms"
      },
      "source": [
        "**Why Increase Filters in Later Layers?**\n",
        "Typically, in deep CNNs, the number of filters is increased in deeper layers (e.g., going from 32 to 64 or 128) because:\n",
        "*  As the spatial dimensions decrease (due to max pooling or strides), the network learns more abstract features and can benefit from learning a larger variety of feature representations.\n",
        "\n",
        "* Increasing the number of filters allows the network to capture more detailed and varied features, which can improve performance in complex tasks like image classification."
      ]
    },
    {
      "cell_type": "markdown",
      "metadata": {
        "id": "CeOEqUvFXn5H"
      },
      "source": [
        "[Resouce to Better Understand CNN's](https://poloclub.github.io/cnn-explainer/)"
      ]
    },
    {
      "cell_type": "code",
      "execution_count": null,
      "metadata": {
        "id": "q_c7EDe5g5So"
      },
      "outputs": [],
      "source": [
        "import tensorflow as tf\n",
        "\n",
        "tf.keras.backend.clear_session()"
      ]
    },
    {
      "cell_type": "code",
      "execution_count": null,
      "metadata": {
        "colab": {
          "base_uri": "https://localhost:8080/"
        },
        "id": "bBACCANiCbSN",
        "outputId": "3cef3593-2fa6-437e-ef30-1b6f7399ded2"
      },
      "outputs": [
        {
          "output_type": "stream",
          "name": "stderr",
          "text": [
            "/usr/local/lib/python3.10/dist-packages/keras/src/layers/convolutional/base_conv.py:107: UserWarning: Do not pass an `input_shape`/`input_dim` argument to a layer. When using Sequential models, prefer using an `Input(shape)` object as the first layer in the model instead.\n",
            "  super().__init__(activity_regularizer=activity_regularizer, **kwargs)\n"
          ]
        }
      ],
      "source": [
        "\n",
        "# input image\n",
        "WIDTH = 50\n",
        "HEIGHT = 50\n",
        "\n",
        "\n",
        "model = tf.keras.models.Sequential([\n",
        "\n",
        "    # Layer 1\n",
        "    tf.keras.layers.Conv2D(32, (3, 3), activation='relu', input_shape=(WIDTH, HEIGHT, 1)),\n",
        "    tf.keras.layers.MaxPooling2D((2,2)),\n",
        "\n",
        "    # Layer 2\n",
        "    tf.keras.layers.Conv2D(64, (3, 3), activation='relu'),\n",
        "    tf.keras.layers.MaxPooling2D((2, 2)),  # Further downsampling\n",
        "\n",
        "    # Layer 3\n",
        "    tf.keras.layers.Conv2D(128, (3, 3), activation='relu'),\n",
        "    tf.keras.layers.MaxPooling2D((2, 2)),  # Even further downsampling\n",
        "\n",
        "    # n-D to 1D transformation\n",
        "    tf.keras.layers.Flatten(),\n",
        "\n",
        "    # Fully Connected Layer\n",
        "    tf.keras.layers.Dense(128, activation='relu'),\n",
        "\n",
        "    # Output Layer\n",
        "    tf.keras.layers.Dense(5, activation='softmax')   # 5 classes, this is the output\n",
        "    ])"
      ]
    },
    {
      "cell_type": "markdown",
      "metadata": {
        "id": "OevEOrxua0S1"
      },
      "source": [
        "Could add . . .\n",
        "\n",
        "\n",
        "*   Dropout: improves generalization\n",
        "*   RGB: (current 50x50x1) 50x50x3 < 250x250x1\n",
        "* ...\n",
        "\n"
      ]
    },
    {
      "cell_type": "code",
      "execution_count": null,
      "metadata": {
        "id": "Q0-0Y-PtdvbA"
      },
      "outputs": [],
      "source": [
        "model.compile(optimizer='adam',\n",
        "              loss='categorical_crossentropy',\n",
        "              metrics=['accuracy'])"
      ]
    },
    {
      "cell_type": "code",
      "execution_count": null,
      "metadata": {
        "id": "Tv_t-k-sf0E6"
      },
      "outputs": [],
      "source": [
        "# needs to be one hot encoded when using 'categorical_crossentropy'\n",
        "\n",
        "y_train_hot = tf.keras.utils.to_categorical(y_train, num_classes=5)\n",
        "y_test_hot = tf.keras.utils.to_categorical(y_test, num_classes=5)"
      ]
    },
    {
      "cell_type": "code",
      "execution_count": null,
      "metadata": {
        "colab": {
          "base_uri": "https://localhost:8080/"
        },
        "id": "E9w9XBbWeyfD",
        "outputId": "967bf00e-3deb-4d88-d26e-372aa0221b8e"
      },
      "outputs": [
        {
          "output_type": "stream",
          "name": "stdout",
          "text": [
            "Epoch 1/10\n",
            "\u001b[1m1875/1875\u001b[0m \u001b[32m━━━━━━━━━━━━━━━━━━━━\u001b[0m\u001b[37m\u001b[0m \u001b[1m285s\u001b[0m 151ms/step - accuracy: 0.9015 - loss: 0.2611\n",
            "Epoch 2/10\n",
            "\u001b[1m1875/1875\u001b[0m \u001b[32m━━━━━━━━━━━━━━━━━━━━\u001b[0m\u001b[37m\u001b[0m \u001b[1m286s\u001b[0m 153ms/step - accuracy: 0.9663 - loss: 0.1002\n",
            "Epoch 3/10\n",
            "\u001b[1m1875/1875\u001b[0m \u001b[32m━━━━━━━━━━━━━━━━━━━━\u001b[0m\u001b[37m\u001b[0m \u001b[1m288s\u001b[0m 154ms/step - accuracy: 0.9728 - loss: 0.0805\n",
            "Epoch 4/10\n",
            "\u001b[1m1875/1875\u001b[0m \u001b[32m━━━━━━━━━━━━━━━━━━━━\u001b[0m\u001b[37m\u001b[0m \u001b[1m325s\u001b[0m 155ms/step - accuracy: 0.9787 - loss: 0.0627\n",
            "Epoch 5/10\n",
            "\u001b[1m1875/1875\u001b[0m \u001b[32m━━━━━━━━━━━━━━━━━━━━\u001b[0m\u001b[37m\u001b[0m \u001b[1m315s\u001b[0m 152ms/step - accuracy: 0.9837 - loss: 0.0486\n",
            "Epoch 6/10\n",
            "\u001b[1m1875/1875\u001b[0m \u001b[32m━━━━━━━━━━━━━━━━━━━━\u001b[0m\u001b[37m\u001b[0m \u001b[1m328s\u001b[0m 155ms/step - accuracy: 0.9854 - loss: 0.0425\n",
            "Epoch 7/10\n",
            "\u001b[1m1875/1875\u001b[0m \u001b[32m━━━━━━━━━━━━━━━━━━━━\u001b[0m\u001b[37m\u001b[0m \u001b[1m318s\u001b[0m 153ms/step - accuracy: 0.9876 - loss: 0.0342\n",
            "Epoch 8/10\n",
            "\u001b[1m1875/1875\u001b[0m \u001b[32m━━━━━━━━━━━━━━━━━━━━\u001b[0m\u001b[37m\u001b[0m \u001b[1m323s\u001b[0m 153ms/step - accuracy: 0.9892 - loss: 0.0317\n",
            "Epoch 9/10\n",
            "\u001b[1m1875/1875\u001b[0m \u001b[32m━━━━━━━━━━━━━━━━━━━━\u001b[0m\u001b[37m\u001b[0m \u001b[1m321s\u001b[0m 153ms/step - accuracy: 0.9902 - loss: 0.0276\n",
            "Epoch 10/10\n",
            "\u001b[1m1875/1875\u001b[0m \u001b[32m━━━━━━━━━━━━━━━━━━━━\u001b[0m\u001b[37m\u001b[0m \u001b[1m285s\u001b[0m 152ms/step - accuracy: 0.9906 - loss: 0.0263\n"
          ]
        }
      ],
      "source": [
        "EPOCHS = 10\n",
        "\n",
        "history = model.fit(X_train, y_train_hot, epochs=EPOCHS)"
      ]
    },
    {
      "cell_type": "code",
      "execution_count": null,
      "metadata": {
        "colab": {
          "base_uri": "https://localhost:8080/"
        },
        "id": "vLGcoJhIfDB0",
        "outputId": "5354f7f2-ac2e-4e8f-ba03-c3ce75d410af"
      },
      "outputs": [
        {
          "output_type": "stream",
          "name": "stdout",
          "text": [
            "469/469 - 18s - 38ms/step - accuracy: 0.9873 - loss: 0.0368\n"
          ]
        }
      ],
      "source": [
        "# Results on test partition\n",
        "\n",
        "test_loss, test_acc = model.evaluate(X_test, y_test_hot, verbose=2)"
      ]
    },
    {
      "cell_type": "markdown",
      "source": [
        "98% accuracy on the test. How wonderful!"
      ],
      "metadata": {
        "id": "cKLexYqhlSSg"
      }
    },
    {
      "cell_type": "code",
      "source": [
        "history.history"
      ],
      "metadata": {
        "colab": {
          "base_uri": "https://localhost:8080/"
        },
        "id": "Kdd3E2oXl7f6",
        "outputId": "a8761c79-66ab-43b8-c463-000bae4c8d21"
      },
      "execution_count": null,
      "outputs": [
        {
          "output_type": "execute_result",
          "data": {
            "text/plain": [
              "{'accuracy': [0.947516679763794,\n",
              "  0.9684833288192749,\n",
              "  0.9738333225250244,\n",
              "  0.9792333245277405,\n",
              "  0.9842666387557983,\n",
              "  0.9856333136558533,\n",
              "  0.9870166778564453,\n",
              "  0.9889000058174133,\n",
              "  0.9901000261306763,\n",
              "  0.9907833337783813],\n",
              " 'loss': [0.14936946332454681,\n",
              "  0.09343688935041428,\n",
              "  0.0773552656173706,\n",
              "  0.06083254888653755,\n",
              "  0.047188740223646164,\n",
              "  0.04175828397274017,\n",
              "  0.03690795972943306,\n",
              "  0.03195543214678764,\n",
              "  0.028750823810696602,\n",
              "  0.02714298665523529]}"
            ]
          },
          "metadata": {},
          "execution_count": 30
        }
      ]
    },
    {
      "cell_type": "code",
      "source": [
        "# Visual over epochs\n",
        "\n",
        "epochs = range(1, len(history.history['accuracy']) + 1)\n",
        "\n",
        "# ACCURACY\n",
        "plt.plot(epochs, history.history['accuracy'], 'b', label='Training Accuracy')\n",
        "plt.title('Training Accuracy')\n",
        "plt.xlabel('Epochs')\n",
        "plt.ylabel('Accuracy')\n",
        "plt.legend()\n",
        "\n",
        "plt.figure()  # Create a new figure for loss plot\n",
        "\n",
        "# LOSS\n",
        "plt.plot(epochs, history.history['loss'], 'r', label='Training Loss')\n",
        "plt.title('Training Loss')\n",
        "plt.xlabel('Epochs')\n",
        "plt.ylabel('Loss')\n",
        "plt.legend()\n",
        "\n",
        "plt.show()"
      ],
      "metadata": {
        "colab": {
          "base_uri": "https://localhost:8080/",
          "height": 927
        },
        "id": "MVHlZGqYmp_z",
        "outputId": "7b7ca1ed-a73e-48d5-d4b9-1da008958f62"
      },
      "execution_count": null,
      "outputs": [
        {
          "output_type": "display_data",
          "data": {
            "text/plain": [
              "<Figure size 640x480 with 1 Axes>"
            ],
            "image/png": "[encoded data removed]"
          },
          "metadata": {}
        },
        {
          "output_type": "display_data",
          "data": {
            "text/plain": [
              "<Figure size 640x480 with 1 Axes>"
            ],
            "image/png": "[encoded data removed]"
          },
          "metadata": {}
        }
      ]
    },
    {
      "cell_type": "markdown",
      "source": [
        "Model got better over the epochs with accuracy and loss. Test accuracy and train accuracy differences minimal. This model is good."
      ],
      "metadata": {
        "id": "8DsmJQ5BnV7g"
      }
    },
    {
      "cell_type": "markdown",
      "metadata": {
        "id": "3MQBN_cL_uZz"
      },
      "source": [
        "## Conclusion\n",
        "\n",
        "Overall, this Convolutional Neural Network (CNN) did exceptionally well in classifying the 5 different types of Rice. These results were surprising as we thought much information would be lost when downscaling the images. The images were originally 250 by 250 pixels. The rescale resulted in a 50 by 50 images without a new region of interest.\n",
        "\n",
        "The longest part of the process was preparing the dataset for the model. Many issues arose with the memory constraints Google’s Collab allows for free users. This was the reason why downscaling the images was necessary. The zipped file format and the directory structure of the raw data proved to be a time-consuming endeavor.\n",
        "\n",
        "Going forward, it would be beneficial to create a new CNN architecture to run this dataset on that used techniques like “dropout” different hyperparameters such as the kernel size. One question that arises is, how low of a resolution can images in classification problems be downscaled to without hurting the accuracy of the model? Were these rice types so different that a 20 by 20 format would have yielded similar results?\n"
      ]
    }
  ],
  "metadata": {
    "colab": {
      "provenance": [],
      "include_colab_link": true
    },
    "kernelspec": {
      "display_name": "Python 3",
      "name": "python3"
    },
    "language_info": {
      "name": "python"
    }
  },
  "nbformat": 4,
  "nbformat_minor": 0
}